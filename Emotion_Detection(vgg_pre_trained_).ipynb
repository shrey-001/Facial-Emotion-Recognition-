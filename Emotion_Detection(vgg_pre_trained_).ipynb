{
  "nbformat": 4,
  "nbformat_minor": 0,
  "metadata": {
    "accelerator": "GPU",
    "colab": {
      "name": "Emotion Detection(vgg - pre-trained )",
      "provenance": [],
      "collapsed_sections": []
    },
    "kernelspec": {
      "display_name": "Python 3",
      "name": "python3"
    }
  },
  "cells": [
    {
      "cell_type": "code",
      "metadata": {
        "colab": {
          "base_uri": "https://localhost:8080/"
        },
        "id": "eXHGVAlCGxt4",
        "outputId": "084b17a9-1fca-4362-ea10-c5e75a01c938"
      },
      "source": [
        "\n",
        "#Importing Libraries\n",
        "import numpy as np\n",
        "import pandas as pd\n",
        "import tensorflow as tf\n",
        "\n",
        "from keras.layers import Conv2D,Input, ZeroPadding2D, BatchNormalization, Activation, MaxPool2D, Flatten,Dense,Dropout,GlobalAveragePooling2D\n",
        "from keras.models import Sequential  \n",
        "from keras.models import Model,load_model\n",
        "from keras.callbacks import ReduceLROnPlateau, ModelCheckpoint\n",
        "\n",
        "from sklearn.model_selection import train_test_split\n",
        "from sklearn.metrics import f1_score\n",
        "\n",
        "\n",
        "import time\n",
        "import matplotlib.pyplot as plt\n",
        "import os\n",
        "from google.colab import drive\n",
        "drive.mount(\"/content/drive\")"
      ],
      "execution_count": null,
      "outputs": [
        {
          "output_type": "stream",
          "text": [
            "Mounted at /content/drive\n"
          ],
          "name": "stdout"
        }
      ]
    },
    {
      "cell_type": "code",
      "metadata": {
        "id": "DNThlbBghcHK"
      },
      "source": [
        ""
      ],
      "execution_count": null,
      "outputs": []
    },
    {
      "cell_type": "code",
      "metadata": {
        "id": "WjrhG7XZojTt"
      },
      "source": [
        "#Reading The Data\n",
        "data = pd.read_csv(\"/content/drive/My Drive/Data/fer2013.csv\")"
      ],
      "execution_count": null,
      "outputs": []
    },
    {
      "cell_type": "code",
      "metadata": {
        "colab": {
          "base_uri": "https://localhost:8080/"
        },
        "id": "-7xmgq-r-cRN",
        "outputId": "f7e8c2c3-d0ef-4f51-d92e-fc38e1060a19"
      },
      "source": [
        "data.dtypes"
      ],
      "execution_count": null,
      "outputs": [
        {
          "output_type": "execute_result",
          "data": {
            "text/plain": [
              "emotion     int64\n",
              "pixels     object\n",
              "Usage      object\n",
              "dtype: object"
            ]
          },
          "metadata": {
            "tags": []
          },
          "execution_count": 3
        }
      ]
    },
    {
      "cell_type": "code",
      "metadata": {
        "id": "y3Wg5mZzhs-h"
      },
      "source": [
        "# #Data Preprocessing\n",
        "\n",
        "# #Stacking\n",
        "# data[\"pixel\"]=data[\"pixels\"]+\" \"+data[\"pixels\"]+\" \"+data[\"pixels\"]\n",
        "# del data[\"pixels\"]\n",
        "\n",
        "\n",
        "width, height = 48, 48\n",
        "\n",
        "datapoints = data['pixels'].tolist()\n",
        "\n",
        "#getting features for training\n",
        "X = []\n",
        "for xseq in datapoints:\n",
        "    xx = [int(xp) for xp in xseq.split(' ')]\n",
        "    xx = np.asarray(xx).reshape(width, height,1)\n",
        "    X.append(xx.astype('float32'))\n",
        "\n",
        "X = np.asarray(X)\n",
        "\n",
        "#getting labels for training\n",
        "y = pd.get_dummies(data['emotion']).values"
      ],
      "execution_count": null,
      "outputs": []
    },
    {
      "cell_type": "code",
      "metadata": {
        "colab": {
          "base_uri": "https://localhost:8080/"
        },
        "id": "_hXFEZ32fnBO",
        "outputId": "a8a3a9c9-b4cd-477b-d2e3-c41224bcdb66"
      },
      "source": [
        "print(f\"X shape : {X.shape}\")\n",
        "print(f\"y shape : {y.shape}\")"
      ],
      "execution_count": null,
      "outputs": [
        {
          "output_type": "stream",
          "text": [
            "X shape : (35887, 48, 48, 1)\n",
            "y shape : (35887, 7)\n"
          ],
          "name": "stdout"
        }
      ]
    },
    {
      "cell_type": "code",
      "metadata": {
        "id": "8zyl-MQMnWL4"
      },
      "source": [
        "#Spliting the Dataset \n",
        "X_train, X_test_val, y_train, y_test_val = train_test_split(X, y, test_size=0.3,random_state=2)\n",
        "X_test, X_val, y_test, y_val = train_test_split(X_test_val, y_test_val, test_size=0.5,random_state=2)"
      ],
      "execution_count": null,
      "outputs": []
    },
    {
      "cell_type": "code",
      "metadata": {
        "colab": {
          "base_uri": "https://localhost:8080/"
        },
        "id": "uzkjKBp11QGO",
        "outputId": "bda8bfbe-44fc-4bca-96a8-865398353c76"
      },
      "source": [
        "print(f\"X_train shape : {X_train.shape}\")\n",
        "print(f\"y_train shape : {y_train.shape}\")\n",
        "print(f\"X_val shape : {X_val.shape}\")\n",
        "print(f\"y_val shape : {y_val.shape}\")\n",
        "print(f\"X_test shape : {X_test.shape}\")\n",
        "print(f\"y_test shape : {y_test.shape}\")"
      ],
      "execution_count": null,
      "outputs": [
        {
          "output_type": "stream",
          "text": [
            "X_train shape : (25120, 48, 48, 1)\n",
            "y_train shape : (25120, 7)\n",
            "X_val shape : (5384, 48, 48, 1)\n",
            "y_val shape : (5384, 7)\n",
            "X_test shape : (5383, 48, 48, 1)\n",
            "y_test shape : (5383, 7)\n"
          ],
          "name": "stdout"
        }
      ]
    },
    {
      "cell_type": "code",
      "metadata": {
        "id": "LTDPCYGDmCFS",
        "colab": {
          "base_uri": "https://localhost:8080/"
        },
        "outputId": "13cbd1ab-2c99-4f17-fd5e-9edfae38a98f"
      },
      "source": [
        "# from keras.applications.vgg16 import VGG16\n",
        "# #Transfer Learning\n",
        "# conv_base = VGG16(include_top=False,\n",
        "#                       weights='imagenet',\n",
        "#                       input_shape=(48,48, 3))\n",
        "# for layer in conv_base.layers[:-2]:\n",
        "#  layer.trainable = False\n",
        " \n",
        "# model = Sequential()\n",
        "# model.add(conv_base)\n",
        "# model.add(GlobalAveragePooling2D())\n",
        "# model.add(Dense(512, activation='relu'))\n",
        "# model.add(BatchNormalization())\n",
        "# model.add(Dropout(0.5))\n",
        "# model.add(Dense(128, activation='relu'))\n",
        "# model.add(BatchNormalization())\n",
        "# model.add(Dropout(0.5))\n",
        "# # model.add(Dense(64, activation='relu'))\n",
        "# # model.add(BatchNormalization())\n",
        "# model.add(Dense(32, activation='relu'))\n",
        "# # model.add(Dense(16, activation='relu'))\n",
        "# model.add(Dense(7, activation='softmax'))\n",
        "# # import keras\n",
        "# # EPOCHS = 50\n",
        "# # BS = 128\n",
        "# # DROPOUT_RATE = 0.5\n",
        "# # FROZEN_LAYER_NUM = 19\n",
        "\n",
        "# # ADAM_LEARNING_RATE = 0.001\n",
        "# # SGD_LEARNING_RATE = 0.01\n",
        "# # SGD_DECAY = 0.0001\n",
        "\n",
        "\n",
        "# model.compile(optimizer='rmsprop', loss='categorical_crossentropy', metrics=['accuracy'])\n",
        "# vgg_notop = VGGFace(model='vgg16', include_top=False, input_shape=(48,48, 3), pooling='avg')\n",
        "# #print(vgg_notop.summary())\n",
        "# last_layer = vgg_notop.get_layer('pool5').output\n",
        "# x = Flatten(name='flatten')(last_layer)\n",
        "# x = Dropout(DROPOUT_RATE)(x)\n",
        "# x = Dense(4096, activation='relu', name='fc6')(x)\n",
        "# x = Dropout(DROPOUT_RATE)(x)\n",
        "# x = Dense(1024, activation='relu', name='fc7')(x)\n",
        "\n",
        "# for i in range(19):\n",
        "#     vgg_notop.layers[i].trainable = False\n",
        "\n",
        "# print(vgg_notop.get_layer('pool5').trainable)\n",
        "\n",
        "# out = Dense(7, activation='softmax', name='classifier')(x)\n",
        "\n",
        "# model = Model(vgg_notop.input, out)\n",
        "\n",
        "\n",
        "# # optim = keras.optimizers.Adam(lr=ADAM_LEARNING_RATE, beta_1=0.9, beta_2=0.999, epsilon=1e-08, decay=0.0)\n",
        "# # #optim = keras.optimizers.Adam(lr=0.0005, beta_1=0.9, beta_2=0.999, epsilon=1e-08, decay=0.0)\n",
        "# # sgd = keras.optimizers.SGD(lr=SGD_LEARNING_RATE, momentum=0.9, decay=SGD_DECAY, nesterov=True)\n",
        "# # rlrop = keras.callbacks.ReduceLROnPlateau(monitor='val_acc',mode='max',factor=0.5, patience=10, min_lr=0.00001, verbose=1)\n",
        "\n",
        "\n",
        "# from keras.layers import Conv2D,Input, ZeroPadding2D, BatchNormalization, Activation, MaxPool2D, Flatten,Dense,Dropout,GlobalAveragePooling2D,Convolution2D,MaxPooling2D\n",
        "\n",
        "\n",
        "# model = Sequential()\n",
        "# model.add(ZeroPadding2D((1,1),input_shape=(48,48,1)))\n",
        "# model.add(Convolution2D(64, 3, 3, activation='relu'))\n",
        "# model.add(ZeroPadding2D((1,1)))\n",
        "# model.add(Convolution2D(64, 3, 3, activation='relu'))\n",
        "# model.add(MaxPooling2D((2,2), strides=(2,2)))\n",
        "\n",
        "# model.add(ZeroPadding2D((1,1)))\n",
        "# model.add(Convolution2D(128, 3, 3, activation='relu'))\n",
        "# model.add(ZeroPadding2D((1,1)))\n",
        "# model.add(Convolution2D(128, 3, 3, activation='relu'))\n",
        "# model.add(MaxPooling2D((2,2), strides=(2,2)))\n",
        "\n",
        "# model.add(ZeroPadding2D((1,1)))\n",
        "# model.add(Convolution2D(256, 3, 3, activation='relu'))\n",
        "# model.add(ZeroPadding2D((1,1)))\n",
        "# model.add(Convolution2D(256, 3, 3, activation='relu'))\n",
        "# model.add(ZeroPadding2D((1,1)))\n",
        "# model.add(Convolution2D(256, 3, 3, activation='relu'))\n",
        "# model.add(MaxPooling2D((2,2), strides=(2,2)))\n",
        "\n",
        "# model.add(ZeroPadding2D((1,1)))\n",
        "# model.add(Convolution2D(512, 3, 3, activation='relu'))\n",
        "# model.add(ZeroPadding2D((1,1)))\n",
        "# model.add(Convolution2D(512, 3, 3, activation='relu'))\n",
        "# model.add(ZeroPadding2D((1,1)))\n",
        "# model.add(Convolution2D(512, 3, 3, activation='relu'))\n",
        "# model.add(MaxPooling2D((2,2), strides=(2,2)))\n",
        "\n",
        "\n",
        "# model.add(ZeroPadding2D((1,1)))\n",
        "# model.add(Convolution2D(512, 3, 3, activation='relu'))\n",
        "# model.add(ZeroPadding2D((1,1)))\n",
        "# model.add(Convolution2D(512, 3, 3, activation='relu'))\n",
        "# model.add(ZeroPadding2D((1,1)))\n",
        "# model.add(Convolution2D(512, 3, 3, activation='relu'))\n",
        "# model.add(MaxPooling2D((2,2), strides=(2,2)))\n",
        "\n",
        "# model.add(Flatten())\n",
        "# model.add(Dense(4096, activation='relu'))\n",
        "# model.add(Dropout(0.5))\n",
        "# model.add(Dense(4096, activation='relu'))\n",
        "# model.add(Dropout(0.5))\n",
        "# model.add(Dense(7, activation='softmax'))\n",
        "# model.compile(optimizer='rmsprop', loss='categorical_crossentropy', metrics=['accuracy'])\n",
        "np.random.seed(10)\n",
        "model = Sequential()\n",
        "\n",
        "# 1. Conv\n",
        "model.add(Conv2D(64, (3, 3), padding='same', input_shape=(48,48,1)))\n",
        "model.add(BatchNormalization())\n",
        "model.add(Activation('relu'))\n",
        "model.add(MaxPooling2D(pool_size=(2,2)))\n",
        "model.add(Dropout(0.25))\n",
        "\n",
        "\n",
        "# 2. Conv Layer\n",
        "model.add(Conv2D(128, (5, 5), padding='same'))\n",
        "model.add(BatchNormalization())\n",
        "model.add(Activation('relu'))\n",
        "model.add(MaxPooling2D(pool_size=(2,2)))\n",
        "model.add(Dropout(0.25))\n",
        "\n",
        "# 3. Conv Layer\n",
        "model.add(Conv2D(512, (3,3), padding='same'))\n",
        "model.add(BatchNormalization())\n",
        "model.add(Activation('relu'))\n",
        "model.add(MaxPooling2D(pool_size=(2,2)))\n",
        "model.add(Dropout(0.25))\n",
        "\n",
        "#4. Conv Layer\n",
        "model.add(Conv2D(512, (3,3), padding='same'))\n",
        "model.add(BatchNormalization())\n",
        "model.add(Activation('relu'))\n",
        "model.add(MaxPooling2D(pool_size=(2,2)))\n",
        "model.add(Dropout(0.25))\n",
        "\n",
        "model.add(Flatten())\n",
        "model.add(Dense(256))\n",
        "model.add(BatchNormalization())\n",
        "model.add(Activation('relu'))\n",
        "model.add(Dropout(0.25))\n",
        "\n",
        "model.add(Dense(512))\n",
        "model.add(BatchNormalization())\n",
        "model.add(Activation('relu'))\n",
        "model.add(Dropout(0.25))\n",
        "\n",
        "model.add(Dense(7, activation='softmax'))\n",
        "model.compile(optimizer='adam', loss='categorical_crossentropy', metrics=['accuracy'])\n",
        "model.summary()"
      ],
      "execution_count": null,
      "outputs": [
        {
          "output_type": "stream",
          "text": [
            "Model: \"sequential_5\"\n",
            "_________________________________________________________________\n",
            "Layer (type)                 Output Shape              Param #   \n",
            "=================================================================\n",
            "conv2d_20 (Conv2D)           (None, 48, 48, 64)        640       \n",
            "_________________________________________________________________\n",
            "batch_normalization_24 (Batc (None, 48, 48, 64)        256       \n",
            "_________________________________________________________________\n",
            "activation_24 (Activation)   (None, 48, 48, 64)        0         \n",
            "_________________________________________________________________\n",
            "max_pooling2d_18 (MaxPooling (None, 24, 24, 64)        0         \n",
            "_________________________________________________________________\n",
            "dropout_24 (Dropout)         (None, 24, 24, 64)        0         \n",
            "_________________________________________________________________\n",
            "conv2d_21 (Conv2D)           (None, 24, 24, 128)       204928    \n",
            "_________________________________________________________________\n",
            "batch_normalization_25 (Batc (None, 24, 24, 128)       512       \n",
            "_________________________________________________________________\n",
            "activation_25 (Activation)   (None, 24, 24, 128)       0         \n",
            "_________________________________________________________________\n",
            "max_pooling2d_19 (MaxPooling (None, 12, 12, 128)       0         \n",
            "_________________________________________________________________\n",
            "dropout_25 (Dropout)         (None, 12, 12, 128)       0         \n",
            "_________________________________________________________________\n",
            "conv2d_22 (Conv2D)           (None, 12, 12, 512)       590336    \n",
            "_________________________________________________________________\n",
            "batch_normalization_26 (Batc (None, 12, 12, 512)       2048      \n",
            "_________________________________________________________________\n",
            "activation_26 (Activation)   (None, 12, 12, 512)       0         \n",
            "_________________________________________________________________\n",
            "max_pooling2d_20 (MaxPooling (None, 6, 6, 512)         0         \n",
            "_________________________________________________________________\n",
            "dropout_26 (Dropout)         (None, 6, 6, 512)         0         \n",
            "_________________________________________________________________\n",
            "conv2d_23 (Conv2D)           (None, 6, 6, 512)         2359808   \n",
            "_________________________________________________________________\n",
            "batch_normalization_27 (Batc (None, 6, 6, 512)         2048      \n",
            "_________________________________________________________________\n",
            "activation_27 (Activation)   (None, 6, 6, 512)         0         \n",
            "_________________________________________________________________\n",
            "max_pooling2d_21 (MaxPooling (None, 3, 3, 512)         0         \n",
            "_________________________________________________________________\n",
            "dropout_27 (Dropout)         (None, 3, 3, 512)         0         \n",
            "_________________________________________________________________\n",
            "flatten_4 (Flatten)          (None, 4608)              0         \n",
            "_________________________________________________________________\n",
            "dense_12 (Dense)             (None, 256)               1179904   \n",
            "_________________________________________________________________\n",
            "batch_normalization_28 (Batc (None, 256)               1024      \n",
            "_________________________________________________________________\n",
            "activation_28 (Activation)   (None, 256)               0         \n",
            "_________________________________________________________________\n",
            "dropout_28 (Dropout)         (None, 256)               0         \n",
            "_________________________________________________________________\n",
            "dense_13 (Dense)             (None, 512)               131584    \n",
            "_________________________________________________________________\n",
            "batch_normalization_29 (Batc (None, 512)               2048      \n",
            "_________________________________________________________________\n",
            "activation_29 (Activation)   (None, 512)               0         \n",
            "_________________________________________________________________\n",
            "dropout_29 (Dropout)         (None, 512)               0         \n",
            "_________________________________________________________________\n",
            "dense_14 (Dense)             (None, 7)                 3591      \n",
            "=================================================================\n",
            "Total params: 4,478,727\n",
            "Trainable params: 4,474,759\n",
            "Non-trainable params: 3,968\n",
            "_________________________________________________________________\n"
          ],
          "name": "stdout"
        }
      ]
    },
    {
      "cell_type": "code",
      "metadata": {
        "id": "W2JeQkplnCYQ",
        "colab": {
          "base_uri": "https://localhost:8080/"
        },
        "outputId": "84969edc-4c03-42c8-ab77-81f7f115d611"
      },
      "source": [
        "model.summary()"
      ],
      "execution_count": null,
      "outputs": [
        {
          "output_type": "stream",
          "text": [
            "Model: \"sequential_2\"\n",
            "_________________________________________________________________\n",
            "Layer (type)                 Output Shape              Param #   \n",
            "=================================================================\n",
            "conv2d_8 (Conv2D)            (None, 48, 48, 64)        640       \n",
            "_________________________________________________________________\n",
            "batch_normalization_6 (Batch (None, 48, 48, 64)        256       \n",
            "_________________________________________________________________\n",
            "activation_6 (Activation)    (None, 48, 48, 64)        0         \n",
            "_________________________________________________________________\n",
            "max_pooling2d_6 (MaxPooling2 (None, 24, 24, 64)        0         \n",
            "_________________________________________________________________\n",
            "dropout_6 (Dropout)          (None, 24, 24, 64)        0         \n",
            "_________________________________________________________________\n",
            "conv2d_9 (Conv2D)            (None, 24, 24, 128)       204928    \n",
            "_________________________________________________________________\n",
            "batch_normalization_7 (Batch (None, 24, 24, 128)       512       \n",
            "_________________________________________________________________\n",
            "activation_7 (Activation)    (None, 24, 24, 128)       0         \n",
            "_________________________________________________________________\n",
            "max_pooling2d_7 (MaxPooling2 (None, 12, 12, 128)       0         \n",
            "_________________________________________________________________\n",
            "dropout_7 (Dropout)          (None, 12, 12, 128)       0         \n",
            "_________________________________________________________________\n",
            "conv2d_10 (Conv2D)           (None, 12, 12, 512)       590336    \n",
            "_________________________________________________________________\n",
            "batch_normalization_8 (Batch (None, 12, 12, 512)       2048      \n",
            "_________________________________________________________________\n",
            "activation_8 (Activation)    (None, 12, 12, 512)       0         \n",
            "_________________________________________________________________\n",
            "max_pooling2d_8 (MaxPooling2 (None, 6, 6, 512)         0         \n",
            "_________________________________________________________________\n",
            "dropout_8 (Dropout)          (None, 6, 6, 512)         0         \n",
            "_________________________________________________________________\n",
            "conv2d_11 (Conv2D)           (None, 6, 6, 512)         2359808   \n",
            "_________________________________________________________________\n",
            "batch_normalization_9 (Batch (None, 6, 6, 512)         2048      \n",
            "_________________________________________________________________\n",
            "activation_9 (Activation)    (None, 6, 6, 512)         0         \n",
            "_________________________________________________________________\n",
            "max_pooling2d_9 (MaxPooling2 (None, 3, 3, 512)         0         \n",
            "_________________________________________________________________\n",
            "dropout_9 (Dropout)          (None, 3, 3, 512)         0         \n",
            "_________________________________________________________________\n",
            "flatten_1 (Flatten)          (None, 4608)              0         \n",
            "_________________________________________________________________\n",
            "dense_3 (Dense)              (None, 256)               1179904   \n",
            "_________________________________________________________________\n",
            "batch_normalization_10 (Batc (None, 256)               1024      \n",
            "_________________________________________________________________\n",
            "activation_10 (Activation)   (None, 256)               0         \n",
            "_________________________________________________________________\n",
            "dropout_10 (Dropout)         (None, 256)               0         \n",
            "_________________________________________________________________\n",
            "dense_4 (Dense)              (None, 512)               131584    \n",
            "_________________________________________________________________\n",
            "batch_normalization_11 (Batc (None, 512)               2048      \n",
            "_________________________________________________________________\n",
            "activation_11 (Activation)   (None, 512)               0         \n",
            "_________________________________________________________________\n",
            "dropout_11 (Dropout)         (None, 512)               0         \n",
            "_________________________________________________________________\n",
            "dense_5 (Dense)              (None, 7)                 3591      \n",
            "=================================================================\n",
            "Total params: 4,478,727\n",
            "Trainable params: 4,474,759\n",
            "Non-trainable params: 3,968\n",
            "_________________________________________________________________\n"
          ],
          "name": "stdout"
        }
      ]
    },
    {
      "cell_type": "code",
      "metadata": {
        "id": "fykfZ5ZWC6ec"
      },
      "source": [
        "#CallBacks\n",
        "\n",
        "# reduce_lr = ReduceLROnPlateau(monitor='val_loss', factor=0.2,\n",
        "#                               patience=5, min_lr=0.001)\n",
        "\n",
        "\n",
        "\n",
        "# checkpoint_filepath = '/content/drive/My Drive/Data/checkpoints/weights-improvement-{epoch:02d}-{val_accuracy:.2f}.h5'\n",
        "\n",
        "# checkpoints = ModelCheckpoint(filepath=checkpoint_filepath,\n",
        "#                              monitor=\"val_accuracy\",\n",
        "#                              verbose=1,\n",
        "#                              save_best_only=True,\n",
        "#                              mode='auto',\n",
        "#                              save_freq=\"epoch\"\n",
        "# #                              )\n",
        "# checkpoint=[reduce_lr]\n",
        "#,callbacks=[checkpoint]\n",
        "# from keras.preprocessing.image import ImageDataGenerator\n",
        "# datagen = ImageDataGenerator(\n",
        "#     featurewise_center=True,\n",
        "#     featurewise_std_normalization=True,\n",
        "#     rotation_range=20,\n",
        "#     width_shift_range=0.2,\n",
        "#     height_shift_range=0.2,\n",
        "#     horizontal_flip=True)\n",
        "# datagen.fit(X_train)"
      ],
      "execution_count": null,
      "outputs": []
    },
    {
      "cell_type": "code",
      "metadata": {
        "colab": {
          "base_uri": "https://localhost:8080/"
        },
        "id": "oL979KR5n7f8",
        "outputId": "688d1956-6ee7-4220-8ffb-23ad7d8b64ec"
      },
      "source": [
        "history=model.fit(x=X_train, y=y_train, batch_size=128, epochs=10, validation_data=(X_val, y_val))"
      ],
      "execution_count": null,
      "outputs": [
        {
          "output_type": "stream",
          "text": [
            "Epoch 1/10\n",
            "197/197 [==============================] - 11s 52ms/step - loss: 1.9459 - accuracy: 0.2585 - val_loss: 1.8673 - val_accuracy: 0.2964\n",
            "Epoch 2/10\n",
            "197/197 [==============================] - 10s 51ms/step - loss: 1.5216 - accuracy: 0.4171 - val_loss: 1.4826 - val_accuracy: 0.4307\n",
            "Epoch 3/10\n",
            "197/197 [==============================] - 10s 52ms/step - loss: 1.3300 - accuracy: 0.4886 - val_loss: 1.3800 - val_accuracy: 0.4785\n",
            "Epoch 4/10\n",
            "197/197 [==============================] - 10s 51ms/step - loss: 1.2146 - accuracy: 0.5375 - val_loss: 1.4663 - val_accuracy: 0.3936\n",
            "Epoch 5/10\n",
            "197/197 [==============================] - 10s 51ms/step - loss: 1.1355 - accuracy: 0.5690 - val_loss: 1.2696 - val_accuracy: 0.5249\n",
            "Epoch 6/10\n",
            "197/197 [==============================] - 10s 50ms/step - loss: 1.0876 - accuracy: 0.5928 - val_loss: 1.2601 - val_accuracy: 0.5199\n",
            "Epoch 7/10\n",
            "197/197 [==============================] - 10s 50ms/step - loss: 1.0337 - accuracy: 0.6097 - val_loss: 1.1986 - val_accuracy: 0.5579\n",
            "Epoch 8/10\n",
            "197/197 [==============================] - 10s 50ms/step - loss: 0.9909 - accuracy: 0.6255 - val_loss: 1.1184 - val_accuracy: 0.5775\n",
            "Epoch 9/10\n",
            "197/197 [==============================] - 10s 50ms/step - loss: 0.9450 - accuracy: 0.6435 - val_loss: 1.3309 - val_accuracy: 0.4900\n",
            "Epoch 10/10\n",
            "197/197 [==============================] - 10s 51ms/step - loss: 0.8977 - accuracy: 0.6663 - val_loss: 1.0698 - val_accuracy: 0.5925\n"
          ],
          "name": "stdout"
        }
      ]
    },
    {
      "cell_type": "code",
      "metadata": {
        "id": "Z0LSXWOZrvcs"
      },
      "source": [
        " def plot_metrics(history):\n",
        "    \n",
        "    train_loss = history['loss']\n",
        "    val_loss = history['val_loss']\n",
        "    train_acc = history['accuracy']\n",
        "    val_acc = history['val_accuracy']\n",
        "    \n",
        "    # Loss\n",
        "    plt.figure()\n",
        "    plt.plot(train_loss, label='Training Loss')\n",
        "    plt.plot(val_loss, label='Validation Loss')\n",
        "    plt.title('Loss')\n",
        "    plt.legend()\n",
        "    plt.show()\n",
        "    \n",
        "    # Accuracy\n",
        "    plt.figure()\n",
        "    plt.plot(train_acc, label='Training Accuracy')\n",
        "    plt.plot(val_acc, label='Validation Accuracy')\n",
        "    plt.title('Accuracy')\n",
        "    plt.legend()\n",
        "    plt.show()"
      ],
      "execution_count": null,
      "outputs": []
    },
    {
      "cell_type": "code",
      "metadata": {
        "colab": {
          "base_uri": "https://localhost:8080/",
          "height": 545
        },
        "id": "My68sr14swGO",
        "outputId": "ae5ed105-8c7b-4f0c-8179-d13752dd0fcf"
      },
      "source": [
        "history = model.history.history\n",
        "plot_metrics(history)"
      ],
      "execution_count": null,
      "outputs": [
        {
          "output_type": "display_data",
          "data": {
            "image/png": "[encoded data removed]",
            "text/plain": [
              "<Figure size 432x288 with 1 Axes>"
            ]
          },
          "metadata": {
            "tags": [],
            "needs_background": "light"
          }
        },
        {
          "output_type": "display_data",
          "data": {
            "image/png": "[encoded data removed]",
            "text/plain": [
              "<Figure size 432x288 with 1 Axes>"
            ]
          },
          "metadata": {
            "tags": [],
            "needs_background": "light"
          }
        }
      ]
    },
    {
      "cell_type": "code",
      "metadata": {
        "id": "zQF71t_v7Pir"
      },
      "source": [
        "#ISSUES:: Overfitting :use dropout and increase validation dataset and shuffle before train_test_split \n",
        "\n",
        "# bestVGG16_model = load_model(filepath='/content/gdrive/My Drive/VGGmodels/075-0.99')"
      ],
      "execution_count": null,
      "outputs": []
    },
    {
      "cell_type": "code",
      "metadata": {
        "id": "Fw75tFNi7aZB"
      },
      "source": [
        "# loss, acc = bestVGG16_model.evaluate(x=X_test, y=Y_test)"
      ],
      "execution_count": null,
      "outputs": []
    },
    {
      "cell_type": "code",
      "metadata": {
        "id": "OUsGUSbm9Ihz"
      },
      "source": [
        "# reduce_lr = ReduceLROnPlateau(monitor='val_loss', factor=0.2,\n",
        "#                               patience=5, min_lr=0.001)"
      ],
      "execution_count": null,
      "outputs": []
    },
    {
      "cell_type": "code",
      "metadata": {
        "id": "4GUCCbUIaiQC"
      },
      "source": [
        "# from keras.applications import ResNet50\n",
        "# INCV3=ResNet50(include_top=False, weights='imagenet',  input_shape=(48,48,3),pooling=max)\n",
        "# incv3=Sequential()\n",
        "# incv3.add(INCV3)\n",
        "# incv3.add(Dropout(0.3))\n",
        "# incv3.add(Flatten())\n",
        "# incv3.add(Dropout(0.5))\n",
        "# incv3.add(Dense(7, activation='relu'))\n",
        "# incv3.layers[0].trainable = False\n",
        "# incv3.compile(optimizer='adam', loss='categorical_crossentropy', metrics=['accuracy'])"
      ],
      "execution_count": null,
      "outputs": []
    },
    {
      "cell_type": "code",
      "metadata": {
        "colab": {
          "base_uri": "https://localhost:8080/"
        },
        "id": "dmpmbwpPbBko",
        "outputId": "7716dcd4-1b1b-45b3-85f6-e79b22263c9e"
      },
      "source": [
        "# incv3.fit(X_train, y_train, batch_size=128,validation_data=(X_val, y_val), epochs = 40, verbose = 1,shuffle=True)"
      ],
      "execution_count": null,
      "outputs": [
        {
          "output_type": "stream",
          "text": [
            "Epoch 1/40\n",
            "197/197 [==============================] - 17s 84ms/step - loss: 3.3650 - accuracy: 0.3130 - val_loss: 3.3415 - val_accuracy: 0.2933\n",
            "Epoch 2/40\n",
            "197/197 [==============================] - 17s 84ms/step - loss: 3.3627 - accuracy: 0.3136 - val_loss: 3.3316 - val_accuracy: 0.2949\n",
            "Epoch 3/40\n",
            "197/197 [==============================] - 17s 84ms/step - loss: 3.3672 - accuracy: 0.3109 - val_loss: 3.3479 - val_accuracy: 0.3013\n",
            "Epoch 4/40\n",
            "197/197 [==============================] - 17s 84ms/step - loss: 3.3645 - accuracy: 0.3170 - val_loss: 3.3326 - val_accuracy: 0.2962\n",
            "Epoch 5/40\n",
            "197/197 [==============================] - 17s 84ms/step - loss: 3.3587 - accuracy: 0.3162 - val_loss: 3.3447 - val_accuracy: 0.3022\n",
            "Epoch 6/40\n",
            "197/197 [==============================] - 17s 84ms/step - loss: 3.3568 - accuracy: 0.3194 - val_loss: 3.3430 - val_accuracy: 0.2966\n",
            "Epoch 7/40\n",
            "197/197 [==============================] - 17s 84ms/step - loss: 3.3618 - accuracy: 0.3139 - val_loss: 3.3327 - val_accuracy: 0.2970\n",
            "Epoch 8/40\n",
            "197/197 [==============================] - 17s 85ms/step - loss: 3.3606 - accuracy: 0.3174 - val_loss: 3.3377 - val_accuracy: 0.2981\n",
            "Epoch 9/40\n",
            "197/197 [==============================] - 17s 84ms/step - loss: 3.3584 - accuracy: 0.3156 - val_loss: 3.3390 - val_accuracy: 0.2951\n",
            "Epoch 10/40\n",
            "197/197 [==============================] - 17s 84ms/step - loss: 3.3611 - accuracy: 0.3170 - val_loss: 3.3482 - val_accuracy: 0.3024\n",
            "Epoch 11/40\n",
            "197/197 [==============================] - 17s 84ms/step - loss: 3.3596 - accuracy: 0.3169 - val_loss: 3.3407 - val_accuracy: 0.3016\n",
            "Epoch 12/40\n",
            "197/197 [==============================] - 16s 83ms/step - loss: 3.3583 - accuracy: 0.3188 - val_loss: 3.3421 - val_accuracy: 0.2962\n",
            "Epoch 13/40\n",
            "197/197 [==============================] - 16s 84ms/step - loss: 3.3558 - accuracy: 0.3172 - val_loss: 3.3410 - val_accuracy: 0.2981\n",
            "Epoch 14/40\n",
            "197/197 [==============================] - 16s 84ms/step - loss: 3.3499 - accuracy: 0.3199 - val_loss: 3.3547 - val_accuracy: 0.3024\n",
            "Epoch 15/40\n",
            "197/197 [==============================] - 16s 83ms/step - loss: 3.3594 - accuracy: 0.3206 - val_loss: 3.3552 - val_accuracy: 0.3001\n",
            "Epoch 16/40\n",
            "197/197 [==============================] - 16s 83ms/step - loss: 3.3520 - accuracy: 0.3174 - val_loss: 3.3515 - val_accuracy: 0.2942\n",
            "Epoch 17/40\n",
            "197/197 [==============================] - 17s 84ms/step - loss: 3.3545 - accuracy: 0.3201 - val_loss: 3.3650 - val_accuracy: 0.3024\n",
            "Epoch 18/40\n",
            "197/197 [==============================] - 17s 84ms/step - loss: 3.3524 - accuracy: 0.3184 - val_loss: 3.3493 - val_accuracy: 0.2964\n",
            "Epoch 19/40\n",
            "197/197 [==============================] - 17s 84ms/step - loss: 3.3529 - accuracy: 0.3206 - val_loss: 3.3457 - val_accuracy: 0.2998\n",
            "Epoch 20/40\n",
            "197/197 [==============================] - 17s 84ms/step - loss: 3.3565 - accuracy: 0.3195 - val_loss: 3.3588 - val_accuracy: 0.2990\n",
            "Epoch 21/40\n",
            "197/197 [==============================] - 17s 84ms/step - loss: 3.3495 - accuracy: 0.3227 - val_loss: 3.3524 - val_accuracy: 0.3031\n",
            "Epoch 22/40\n",
            "197/197 [==============================] - 17s 84ms/step - loss: 3.3481 - accuracy: 0.3225 - val_loss: 3.3513 - val_accuracy: 0.2990\n",
            "Epoch 23/40\n",
            "197/197 [==============================] - 17s 84ms/step - loss: 3.3522 - accuracy: 0.3181 - val_loss: 3.3349 - val_accuracy: 0.2979\n",
            "Epoch 24/40\n",
            "197/197 [==============================] - 17s 84ms/step - loss: 3.3516 - accuracy: 0.3204 - val_loss: 3.3386 - val_accuracy: 0.2883\n",
            "Epoch 25/40\n",
            "197/197 [==============================] - 17s 84ms/step - loss: 3.3472 - accuracy: 0.3207 - val_loss: 3.3368 - val_accuracy: 0.2979\n",
            "Epoch 26/40\n",
            "197/197 [==============================] - 17s 84ms/step - loss: 3.3522 - accuracy: 0.3215 - val_loss: 3.3305 - val_accuracy: 0.2909\n",
            "Epoch 27/40\n",
            "197/197 [==============================] - 17s 85ms/step - loss: 3.3509 - accuracy: 0.3185 - val_loss: 3.3504 - val_accuracy: 0.2985\n",
            "Epoch 28/40\n",
            "197/197 [==============================] - 17s 84ms/step - loss: 3.3453 - accuracy: 0.3202 - val_loss: 3.3655 - val_accuracy: 0.3018\n",
            "Epoch 29/40\n",
            "197/197 [==============================] - 17s 84ms/step - loss: 3.3472 - accuracy: 0.3215 - val_loss: 3.3507 - val_accuracy: 0.3011\n",
            "Epoch 30/40\n",
            "197/197 [==============================] - 17s 84ms/step - loss: 3.3545 - accuracy: 0.3211 - val_loss: 3.3828 - val_accuracy: 0.2987\n",
            "Epoch 31/40\n",
            "197/197 [==============================] - 17s 84ms/step - loss: 3.3496 - accuracy: 0.3234 - val_loss: 3.3679 - val_accuracy: 0.2955\n",
            "Epoch 32/40\n",
            "197/197 [==============================] - 17s 84ms/step - loss: 3.3526 - accuracy: 0.3264 - val_loss: 3.3590 - val_accuracy: 0.3013\n",
            "Epoch 33/40\n",
            "197/197 [==============================] - 17s 84ms/step - loss: 3.3468 - accuracy: 0.3208 - val_loss: 3.3616 - val_accuracy: 0.3046\n",
            "Epoch 34/40\n",
            "197/197 [==============================] - 17s 84ms/step - loss: 3.3480 - accuracy: 0.3246 - val_loss: 3.3548 - val_accuracy: 0.3024\n",
            "Epoch 35/40\n",
            "197/197 [==============================] - 17s 84ms/step - loss: 3.3518 - accuracy: 0.3232 - val_loss: 3.3402 - val_accuracy: 0.3016\n",
            "Epoch 36/40\n",
            "197/197 [==============================] - 17s 84ms/step - loss: 3.3431 - accuracy: 0.3240 - val_loss: 3.3367 - val_accuracy: 0.2981\n",
            "Epoch 37/40\n",
            "197/197 [==============================] - 17s 84ms/step - loss: 3.3542 - accuracy: 0.3221 - val_loss: 3.3640 - val_accuracy: 0.2996\n",
            "Epoch 38/40\n",
            "197/197 [==============================] - 17s 84ms/step - loss: 3.3438 - accuracy: 0.3277 - val_loss: 3.3561 - val_accuracy: 0.3018\n",
            "Epoch 39/40\n",
            "197/197 [==============================] - 16s 84ms/step - loss: 3.3464 - accuracy: 0.3270 - val_loss: 3.3492 - val_accuracy: 0.3029\n",
            "Epoch 40/40\n",
            "197/197 [==============================] - 16s 83ms/step - loss: 3.3492 - accuracy: 0.3242 - val_loss: 3.3524 - val_accuracy: 0.2990\n"
          ],
          "name": "stdout"
        },
        {
          "output_type": "execute_result",
          "data": {
            "text/plain": [
              "<tensorflow.python.keras.callbacks.History at 0x7f79fb476828>"
            ]
          },
          "metadata": {
            "tags": []
          },
          "execution_count": 16
        }
      ]
    },
    {
      "cell_type": "code",
      "metadata": {
        "id": "2ycXV-ZJclTE"
      },
      "source": [
        ""
      ],
      "execution_count": null,
      "outputs": []
    }
  ]
}